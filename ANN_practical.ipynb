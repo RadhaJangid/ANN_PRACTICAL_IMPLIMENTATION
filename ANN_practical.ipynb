{
 "cells": [
  {
   "cell_type": "code",
   "execution_count": null,
   "metadata": {},
   "outputs": [],
   "source": [
    "#!pip install tensorflow-gpu"
   ]
  },
  {
   "cell_type": "code",
   "execution_count": 46,
   "metadata": {},
   "outputs": [],
   "source": [
    "import pandas as pd\n",
    "import numpy as np\n",
    "import matplotlib.pyplot as plt"
   ]
  },
  {
   "cell_type": "code",
   "execution_count": 47,
   "metadata": {},
   "outputs": [],
   "source": [
    "dataset=pd.read_csv('Churn_Modelling.csv')"
   ]
  },
  {
   "cell_type": "code",
   "execution_count": 48,
   "metadata": {},
   "outputs": [
    {
     "data": {
      "text/html": [
       "<div>\n",
       "<style scoped>\n",
       "    .dataframe tbody tr th:only-of-type {\n",
       "        vertical-align: middle;\n",
       "    }\n",
       "\n",
       "    .dataframe tbody tr th {\n",
       "        vertical-align: top;\n",
       "    }\n",
       "\n",
       "    .dataframe thead th {\n",
       "        text-align: right;\n",
       "    }\n",
       "</style>\n",
       "<table border=\"1\" class=\"dataframe\">\n",
       "  <thead>\n",
       "    <tr style=\"text-align: right;\">\n",
       "      <th></th>\n",
       "      <th>RowNumber</th>\n",
       "      <th>CustomerId</th>\n",
       "      <th>Surname</th>\n",
       "      <th>CreditScore</th>\n",
       "      <th>Geography</th>\n",
       "      <th>Gender</th>\n",
       "      <th>Age</th>\n",
       "      <th>Tenure</th>\n",
       "      <th>Balance</th>\n",
       "      <th>NumOfProducts</th>\n",
       "      <th>HasCrCard</th>\n",
       "      <th>IsActiveMember</th>\n",
       "      <th>EstimatedSalary</th>\n",
       "      <th>Exited</th>\n",
       "    </tr>\n",
       "  </thead>\n",
       "  <tbody>\n",
       "    <tr>\n",
       "      <th>0</th>\n",
       "      <td>1</td>\n",
       "      <td>15634602</td>\n",
       "      <td>Hargrave</td>\n",
       "      <td>619</td>\n",
       "      <td>France</td>\n",
       "      <td>Female</td>\n",
       "      <td>42</td>\n",
       "      <td>2</td>\n",
       "      <td>0.00</td>\n",
       "      <td>1</td>\n",
       "      <td>1</td>\n",
       "      <td>1</td>\n",
       "      <td>101348.88</td>\n",
       "      <td>1</td>\n",
       "    </tr>\n",
       "    <tr>\n",
       "      <th>1</th>\n",
       "      <td>2</td>\n",
       "      <td>15647311</td>\n",
       "      <td>Hill</td>\n",
       "      <td>608</td>\n",
       "      <td>Spain</td>\n",
       "      <td>Female</td>\n",
       "      <td>41</td>\n",
       "      <td>1</td>\n",
       "      <td>83807.86</td>\n",
       "      <td>1</td>\n",
       "      <td>0</td>\n",
       "      <td>1</td>\n",
       "      <td>112542.58</td>\n",
       "      <td>0</td>\n",
       "    </tr>\n",
       "    <tr>\n",
       "      <th>2</th>\n",
       "      <td>3</td>\n",
       "      <td>15619304</td>\n",
       "      <td>Onio</td>\n",
       "      <td>502</td>\n",
       "      <td>France</td>\n",
       "      <td>Female</td>\n",
       "      <td>42</td>\n",
       "      <td>8</td>\n",
       "      <td>159660.80</td>\n",
       "      <td>3</td>\n",
       "      <td>1</td>\n",
       "      <td>0</td>\n",
       "      <td>113931.57</td>\n",
       "      <td>1</td>\n",
       "    </tr>\n",
       "    <tr>\n",
       "      <th>3</th>\n",
       "      <td>4</td>\n",
       "      <td>15701354</td>\n",
       "      <td>Boni</td>\n",
       "      <td>699</td>\n",
       "      <td>France</td>\n",
       "      <td>Female</td>\n",
       "      <td>39</td>\n",
       "      <td>1</td>\n",
       "      <td>0.00</td>\n",
       "      <td>2</td>\n",
       "      <td>0</td>\n",
       "      <td>0</td>\n",
       "      <td>93826.63</td>\n",
       "      <td>0</td>\n",
       "    </tr>\n",
       "    <tr>\n",
       "      <th>4</th>\n",
       "      <td>5</td>\n",
       "      <td>15737888</td>\n",
       "      <td>Mitchell</td>\n",
       "      <td>850</td>\n",
       "      <td>Spain</td>\n",
       "      <td>Female</td>\n",
       "      <td>43</td>\n",
       "      <td>2</td>\n",
       "      <td>125510.82</td>\n",
       "      <td>1</td>\n",
       "      <td>1</td>\n",
       "      <td>1</td>\n",
       "      <td>79084.10</td>\n",
       "      <td>0</td>\n",
       "    </tr>\n",
       "  </tbody>\n",
       "</table>\n",
       "</div>"
      ],
      "text/plain": [
       "   RowNumber  CustomerId   Surname  CreditScore Geography  Gender  Age  \\\n",
       "0          1    15634602  Hargrave          619    France  Female   42   \n",
       "1          2    15647311      Hill          608     Spain  Female   41   \n",
       "2          3    15619304      Onio          502    France  Female   42   \n",
       "3          4    15701354      Boni          699    France  Female   39   \n",
       "4          5    15737888  Mitchell          850     Spain  Female   43   \n",
       "\n",
       "   Tenure    Balance  NumOfProducts  HasCrCard  IsActiveMember  \\\n",
       "0       2       0.00              1          1               1   \n",
       "1       1   83807.86              1          0               1   \n",
       "2       8  159660.80              3          1               0   \n",
       "3       1       0.00              2          0               0   \n",
       "4       2  125510.82              1          1               1   \n",
       "\n",
       "   EstimatedSalary  Exited  \n",
       "0        101348.88       1  \n",
       "1        112542.58       0  \n",
       "2        113931.57       1  \n",
       "3         93826.63       0  \n",
       "4         79084.10       0  "
      ]
     },
     "execution_count": 48,
     "metadata": {},
     "output_type": "execute_result"
    }
   ],
   "source": [
    "dataset.head()"
   ]
  },
  {
   "cell_type": "code",
   "execution_count": 49,
   "metadata": {},
   "outputs": [],
   "source": [
    "## HERE Exited is dependent feature, remaining all are independent features"
   ]
  },
  {
   "cell_type": "code",
   "execution_count": 50,
   "metadata": {},
   "outputs": [],
   "source": [
    "## Divide the dataset into dependent and independent feature"
   ]
  },
  {
   "cell_type": "code",
   "execution_count": 51,
   "metadata": {},
   "outputs": [],
   "source": [
    "x=dataset.iloc[:,3:13]\n",
    "y=dataset.iloc[:,-1]"
   ]
  },
  {
   "cell_type": "code",
   "execution_count": 52,
   "metadata": {},
   "outputs": [
    {
     "data": {
      "text/html": [
       "<div>\n",
       "<style scoped>\n",
       "    .dataframe tbody tr th:only-of-type {\n",
       "        vertical-align: middle;\n",
       "    }\n",
       "\n",
       "    .dataframe tbody tr th {\n",
       "        vertical-align: top;\n",
       "    }\n",
       "\n",
       "    .dataframe thead th {\n",
       "        text-align: right;\n",
       "    }\n",
       "</style>\n",
       "<table border=\"1\" class=\"dataframe\">\n",
       "  <thead>\n",
       "    <tr style=\"text-align: right;\">\n",
       "      <th></th>\n",
       "      <th>CreditScore</th>\n",
       "      <th>Geography</th>\n",
       "      <th>Gender</th>\n",
       "      <th>Age</th>\n",
       "      <th>Tenure</th>\n",
       "      <th>Balance</th>\n",
       "      <th>NumOfProducts</th>\n",
       "      <th>HasCrCard</th>\n",
       "      <th>IsActiveMember</th>\n",
       "      <th>EstimatedSalary</th>\n",
       "    </tr>\n",
       "  </thead>\n",
       "  <tbody>\n",
       "    <tr>\n",
       "      <th>0</th>\n",
       "      <td>619</td>\n",
       "      <td>France</td>\n",
       "      <td>Female</td>\n",
       "      <td>42</td>\n",
       "      <td>2</td>\n",
       "      <td>0.00</td>\n",
       "      <td>1</td>\n",
       "      <td>1</td>\n",
       "      <td>1</td>\n",
       "      <td>101348.88</td>\n",
       "    </tr>\n",
       "    <tr>\n",
       "      <th>1</th>\n",
       "      <td>608</td>\n",
       "      <td>Spain</td>\n",
       "      <td>Female</td>\n",
       "      <td>41</td>\n",
       "      <td>1</td>\n",
       "      <td>83807.86</td>\n",
       "      <td>1</td>\n",
       "      <td>0</td>\n",
       "      <td>1</td>\n",
       "      <td>112542.58</td>\n",
       "    </tr>\n",
       "    <tr>\n",
       "      <th>2</th>\n",
       "      <td>502</td>\n",
       "      <td>France</td>\n",
       "      <td>Female</td>\n",
       "      <td>42</td>\n",
       "      <td>8</td>\n",
       "      <td>159660.80</td>\n",
       "      <td>3</td>\n",
       "      <td>1</td>\n",
       "      <td>0</td>\n",
       "      <td>113931.57</td>\n",
       "    </tr>\n",
       "    <tr>\n",
       "      <th>3</th>\n",
       "      <td>699</td>\n",
       "      <td>France</td>\n",
       "      <td>Female</td>\n",
       "      <td>39</td>\n",
       "      <td>1</td>\n",
       "      <td>0.00</td>\n",
       "      <td>2</td>\n",
       "      <td>0</td>\n",
       "      <td>0</td>\n",
       "      <td>93826.63</td>\n",
       "    </tr>\n",
       "    <tr>\n",
       "      <th>4</th>\n",
       "      <td>850</td>\n",
       "      <td>Spain</td>\n",
       "      <td>Female</td>\n",
       "      <td>43</td>\n",
       "      <td>2</td>\n",
       "      <td>125510.82</td>\n",
       "      <td>1</td>\n",
       "      <td>1</td>\n",
       "      <td>1</td>\n",
       "      <td>79084.10</td>\n",
       "    </tr>\n",
       "  </tbody>\n",
       "</table>\n",
       "</div>"
      ],
      "text/plain": [
       "   CreditScore Geography  Gender  Age  Tenure    Balance  NumOfProducts  \\\n",
       "0          619    France  Female   42       2       0.00              1   \n",
       "1          608     Spain  Female   41       1   83807.86              1   \n",
       "2          502    France  Female   42       8  159660.80              3   \n",
       "3          699    France  Female   39       1       0.00              2   \n",
       "4          850     Spain  Female   43       2  125510.82              1   \n",
       "\n",
       "   HasCrCard  IsActiveMember  EstimatedSalary  \n",
       "0          1               1        101348.88  \n",
       "1          0               1        112542.58  \n",
       "2          1               0        113931.57  \n",
       "3          0               0         93826.63  \n",
       "4          1               1         79084.10  "
      ]
     },
     "execution_count": 52,
     "metadata": {},
     "output_type": "execute_result"
    }
   ],
   "source": [
    "x.head()"
   ]
  },
  {
   "cell_type": "code",
   "execution_count": 53,
   "metadata": {},
   "outputs": [
    {
     "data": {
      "text/plain": [
       "0    1\n",
       "1    0\n",
       "2    1\n",
       "3    0\n",
       "4    0\n",
       "Name: Exited, dtype: int64"
      ]
     },
     "execution_count": 53,
     "metadata": {},
     "output_type": "execute_result"
    }
   ],
   "source": [
    "y.head()"
   ]
  },
  {
   "cell_type": "code",
   "execution_count": 54,
   "metadata": {},
   "outputs": [],
   "source": [
    "## Feature Engineering"
   ]
  },
  {
   "cell_type": "code",
   "execution_count": 55,
   "metadata": {},
   "outputs": [],
   "source": [
    "geography=pd.get_dummies(x['Geography'],drop_first=True)\n",
    "gender=pd.get_dummies(x['Gender'],drop_first=True)"
   ]
  },
  {
   "cell_type": "code",
   "execution_count": 56,
   "metadata": {},
   "outputs": [],
   "source": [
    "X=x.drop(['Gender','Geography'],axis=1)"
   ]
  },
  {
   "cell_type": "code",
   "execution_count": 57,
   "metadata": {},
   "outputs": [
    {
     "data": {
      "text/html": [
       "<div>\n",
       "<style scoped>\n",
       "    .dataframe tbody tr th:only-of-type {\n",
       "        vertical-align: middle;\n",
       "    }\n",
       "\n",
       "    .dataframe tbody tr th {\n",
       "        vertical-align: top;\n",
       "    }\n",
       "\n",
       "    .dataframe thead th {\n",
       "        text-align: right;\n",
       "    }\n",
       "</style>\n",
       "<table border=\"1\" class=\"dataframe\">\n",
       "  <thead>\n",
       "    <tr style=\"text-align: right;\">\n",
       "      <th></th>\n",
       "      <th>CreditScore</th>\n",
       "      <th>Age</th>\n",
       "      <th>Tenure</th>\n",
       "      <th>Balance</th>\n",
       "      <th>NumOfProducts</th>\n",
       "      <th>HasCrCard</th>\n",
       "      <th>IsActiveMember</th>\n",
       "      <th>EstimatedSalary</th>\n",
       "    </tr>\n",
       "  </thead>\n",
       "  <tbody>\n",
       "    <tr>\n",
       "      <th>0</th>\n",
       "      <td>619</td>\n",
       "      <td>42</td>\n",
       "      <td>2</td>\n",
       "      <td>0.00</td>\n",
       "      <td>1</td>\n",
       "      <td>1</td>\n",
       "      <td>1</td>\n",
       "      <td>101348.88</td>\n",
       "    </tr>\n",
       "    <tr>\n",
       "      <th>1</th>\n",
       "      <td>608</td>\n",
       "      <td>41</td>\n",
       "      <td>1</td>\n",
       "      <td>83807.86</td>\n",
       "      <td>1</td>\n",
       "      <td>0</td>\n",
       "      <td>1</td>\n",
       "      <td>112542.58</td>\n",
       "    </tr>\n",
       "    <tr>\n",
       "      <th>2</th>\n",
       "      <td>502</td>\n",
       "      <td>42</td>\n",
       "      <td>8</td>\n",
       "      <td>159660.80</td>\n",
       "      <td>3</td>\n",
       "      <td>1</td>\n",
       "      <td>0</td>\n",
       "      <td>113931.57</td>\n",
       "    </tr>\n",
       "    <tr>\n",
       "      <th>3</th>\n",
       "      <td>699</td>\n",
       "      <td>39</td>\n",
       "      <td>1</td>\n",
       "      <td>0.00</td>\n",
       "      <td>2</td>\n",
       "      <td>0</td>\n",
       "      <td>0</td>\n",
       "      <td>93826.63</td>\n",
       "    </tr>\n",
       "    <tr>\n",
       "      <th>4</th>\n",
       "      <td>850</td>\n",
       "      <td>43</td>\n",
       "      <td>2</td>\n",
       "      <td>125510.82</td>\n",
       "      <td>1</td>\n",
       "      <td>1</td>\n",
       "      <td>1</td>\n",
       "      <td>79084.10</td>\n",
       "    </tr>\n",
       "  </tbody>\n",
       "</table>\n",
       "</div>"
      ],
      "text/plain": [
       "   CreditScore  Age  Tenure    Balance  NumOfProducts  HasCrCard  \\\n",
       "0          619   42       2       0.00              1          1   \n",
       "1          608   41       1   83807.86              1          0   \n",
       "2          502   42       8  159660.80              3          1   \n",
       "3          699   39       1       0.00              2          0   \n",
       "4          850   43       2  125510.82              1          1   \n",
       "\n",
       "   IsActiveMember  EstimatedSalary  \n",
       "0               1        101348.88  \n",
       "1               1        112542.58  \n",
       "2               0        113931.57  \n",
       "3               0         93826.63  \n",
       "4               1         79084.10  "
      ]
     },
     "execution_count": 57,
     "metadata": {},
     "output_type": "execute_result"
    }
   ],
   "source": [
    "X.head()"
   ]
  },
  {
   "cell_type": "code",
   "execution_count": 58,
   "metadata": {},
   "outputs": [],
   "source": [
    "X=pd.concat([X,geography,gender],axis=1)"
   ]
  },
  {
   "cell_type": "code",
   "execution_count": 59,
   "metadata": {},
   "outputs": [],
   "source": [
    "#Spliting the dataset in to training set and testset\n",
    "from sklearn.model_selection import train_test_split"
   ]
  },
  {
   "cell_type": "code",
   "execution_count": 60,
   "metadata": {},
   "outputs": [],
   "source": [
    "x_train,x_test,y_train,y_test=train_test_split(X,y,test_size=0.2,random_state=0)"
   ]
  },
  {
   "cell_type": "code",
   "execution_count": 61,
   "metadata": {},
   "outputs": [],
   "source": [
    "#feature scaling\n",
    "from sklearn.preprocessing import StandardScaler\n",
    "sc=StandardScaler()\n",
    "x_train=sc.fit_transform(x_train)\n",
    "x_test=sc.transform(x_test)"
   ]
  },
  {
   "cell_type": "code",
   "execution_count": 62,
   "metadata": {},
   "outputs": [
    {
     "data": {
      "text/plain": [
       "(8000, 11)"
      ]
     },
     "execution_count": 62,
     "metadata": {},
     "output_type": "execute_result"
    }
   ],
   "source": [
    "x_train.shape"
   ]
  },
  {
   "cell_type": "code",
   "execution_count": 63,
   "metadata": {},
   "outputs": [
    {
     "data": {
      "text/plain": [
       "(2000, 11)"
      ]
     },
     "execution_count": 63,
     "metadata": {},
     "output_type": "execute_result"
    }
   ],
   "source": [
    "x_test.shape"
   ]
  },
  {
   "cell_type": "code",
   "execution_count": null,
   "metadata": {},
   "outputs": [],
   "source": [
    "## Part-2 Making ANN model"
   ]
  },
  {
   "cell_type": "code",
   "execution_count": 64,
   "metadata": {},
   "outputs": [],
   "source": [
    "from tensorflow.keras.models import Sequential\n",
    "from tensorflow.keras.layers import Dense\n",
    "from tensorflow.keras.layers import LeakyReLU,PReLU,ELU,ReLU\n",
    "from tensorflow.keras.layers import Dropout"
   ]
  },
  {
   "cell_type": "code",
   "execution_count": 65,
   "metadata": {},
   "outputs": [],
   "source": [
    "### lets initilize the ANN\n",
    "classifier=Sequential()"
   ]
  },
  {
   "cell_type": "code",
   "execution_count": 66,
   "metadata": {},
   "outputs": [],
   "source": [
    "## Adding the input layer\n",
    "classifier.add(Dense(units=11,activation='relu'))"
   ]
  },
  {
   "cell_type": "code",
   "execution_count": 67,
   "metadata": {},
   "outputs": [],
   "source": [
    "## Adding first hidden layer\n",
    "classifier.add(Dense(units=7,activation='relu'))\n",
    "classifier.add(Dropout(0.2))"
   ]
  },
  {
   "cell_type": "code",
   "execution_count": 68,
   "metadata": {},
   "outputs": [],
   "source": [
    "## Adding second hidden layer\n",
    "classifier.add(Dense(units=6,activation='relu'))\n",
    "classifier.add(Dropout(0.3))"
   ]
  },
  {
   "cell_type": "code",
   "execution_count": 69,
   "metadata": {},
   "outputs": [],
   "source": [
    "## Adding output layer\n",
    "classifier.add(Dense(1,activation='sigmoid'))"
   ]
  },
  {
   "cell_type": "code",
   "execution_count": 70,
   "metadata": {},
   "outputs": [],
   "source": [
    "classifier.compile(optimizer='adam',loss='binary_crossentropy',metrics=['accuracy'])\n",
    "# own learning_rate\n",
    "#classifier.compile(optimizer=opt,loss='binary_crossentropy',metrics=['accuracy'])"
   ]
  },
  {
   "cell_type": "markdown",
   "metadata": {},
   "source": [
    "## where is learning rate??"
   ]
  },
  {
   "cell_type": "markdown",
   "metadata": {},
   "source": [
    "### ans-by default adam uses learning rate of 0.01"
   ]
  },
  {
   "cell_type": "code",
   "execution_count": 71,
   "metadata": {},
   "outputs": [],
   "source": [
    "#own learning_rate\n",
    "import tensorflow\n",
    "opt=tensorflow.keras.optimizers.Adam(learning_rate=0.01)"
   ]
  },
  {
   "cell_type": "code",
   "execution_count": 72,
   "metadata": {},
   "outputs": [],
   "source": [
    "## Early Stopping\n",
    "import tensorflow as tf\n",
    "early_stopping=tf.keras.callbacks.EarlyStopping(\n",
    "    monitor=\"val_loss\",\n",
    "    min_delta=0.0001,\n",
    "    patience=20,\n",
    "    verbose=1,\n",
    "    mode=\"auto\",\n",
    "    baseline=None,\n",
    "    restore_best_weights=False,\n",
    ")"
   ]
  },
  {
   "cell_type": "code",
   "execution_count": 73,
   "metadata": {},
   "outputs": [
    {
     "name": "stdout",
     "output_type": "stream",
     "text": [
      "Epoch 1/1000\n",
      "536/536 [==============================] - 4s 5ms/step - loss: 0.5417 - accuracy: 0.7481 - val_loss: 0.4574 - val_accuracy: 0.7955\n",
      "Epoch 2/1000\n",
      "536/536 [==============================] - 2s 4ms/step - loss: 0.4773 - accuracy: 0.7938 - val_loss: 0.4378 - val_accuracy: 0.7959\n",
      "Epoch 3/1000\n",
      "536/536 [==============================] - 3s 6ms/step - loss: 0.4555 - accuracy: 0.7981 - val_loss: 0.4265 - val_accuracy: 0.7959\n",
      "Epoch 4/1000\n",
      "536/536 [==============================] - 3s 5ms/step - loss: 0.4398 - accuracy: 0.8041 - val_loss: 0.4152 - val_accuracy: 0.8092\n",
      "Epoch 5/1000\n",
      "536/536 [==============================] - 3s 5ms/step - loss: 0.4286 - accuracy: 0.8119 - val_loss: 0.4059 - val_accuracy: 0.8209\n",
      "Epoch 6/1000\n",
      "536/536 [==============================] - 3s 5ms/step - loss: 0.4152 - accuracy: 0.8197 - val_loss: 0.3962 - val_accuracy: 0.8319\n",
      "Epoch 7/1000\n",
      "536/536 [==============================] - 3s 5ms/step - loss: 0.4022 - accuracy: 0.8328 - val_loss: 0.3869 - val_accuracy: 0.8387\n",
      "Epoch 8/1000\n",
      "536/536 [==============================] - 3s 6ms/step - loss: 0.3982 - accuracy: 0.8339 - val_loss: 0.3809 - val_accuracy: 0.8406\n",
      "Epoch 9/1000\n",
      "536/536 [==============================] - 3s 6ms/step - loss: 0.3922 - accuracy: 0.8393 - val_loss: 0.3771 - val_accuracy: 0.8451\n",
      "Epoch 10/1000\n",
      "536/536 [==============================] - 3s 6ms/step - loss: 0.3888 - accuracy: 0.8360 - val_loss: 0.3732 - val_accuracy: 0.8421\n",
      "Epoch 11/1000\n",
      "536/536 [==============================] - 3s 5ms/step - loss: 0.3942 - accuracy: 0.8294 - val_loss: 0.3714 - val_accuracy: 0.8463\n",
      "Epoch 12/1000\n",
      "536/536 [==============================] - 3s 5ms/step - loss: 0.3835 - accuracy: 0.8386 - val_loss: 0.3708 - val_accuracy: 0.8463\n",
      "Epoch 13/1000\n",
      "536/536 [==============================] - 3s 5ms/step - loss: 0.3821 - accuracy: 0.8384 - val_loss: 0.3664 - val_accuracy: 0.8485\n",
      "Epoch 14/1000\n",
      "536/536 [==============================] - 3s 5ms/step - loss: 0.3809 - accuracy: 0.8410 - val_loss: 0.3680 - val_accuracy: 0.8463\n",
      "Epoch 15/1000\n",
      "536/536 [==============================] - 3s 6ms/step - loss: 0.3741 - accuracy: 0.8429 - val_loss: 0.3667 - val_accuracy: 0.8459\n",
      "Epoch 16/1000\n",
      "536/536 [==============================] - 3s 5ms/step - loss: 0.3796 - accuracy: 0.8369 - val_loss: 0.3660 - val_accuracy: 0.8474\n",
      "Epoch 17/1000\n",
      "536/536 [==============================] - 3s 5ms/step - loss: 0.3784 - accuracy: 0.8416 - val_loss: 0.3654 - val_accuracy: 0.8485\n",
      "Epoch 18/1000\n",
      "536/536 [==============================] - 3s 6ms/step - loss: 0.3760 - accuracy: 0.8416 - val_loss: 0.3669 - val_accuracy: 0.8478\n",
      "Epoch 19/1000\n",
      "536/536 [==============================] - 3s 5ms/step - loss: 0.3667 - accuracy: 0.8485 - val_loss: 0.3659 - val_accuracy: 0.8444\n",
      "Epoch 20/1000\n",
      "536/536 [==============================] - 3s 5ms/step - loss: 0.3742 - accuracy: 0.8492 - val_loss: 0.3611 - val_accuracy: 0.8470\n",
      "Epoch 21/1000\n",
      "536/536 [==============================] - 3s 6ms/step - loss: 0.3679 - accuracy: 0.8459 - val_loss: 0.3617 - val_accuracy: 0.8463\n",
      "Epoch 22/1000\n",
      "536/536 [==============================] - 3s 5ms/step - loss: 0.3708 - accuracy: 0.8464 - val_loss: 0.3605 - val_accuracy: 0.8504\n",
      "Epoch 23/1000\n",
      "536/536 [==============================] - 3s 5ms/step - loss: 0.3675 - accuracy: 0.8483 - val_loss: 0.3581 - val_accuracy: 0.8501\n",
      "Epoch 24/1000\n",
      "536/536 [==============================] - 3s 5ms/step - loss: 0.3642 - accuracy: 0.8528 - val_loss: 0.3594 - val_accuracy: 0.8512\n",
      "Epoch 25/1000\n",
      "536/536 [==============================] - 2s 5ms/step - loss: 0.3698 - accuracy: 0.8464 - val_loss: 0.3590 - val_accuracy: 0.8497\n",
      "Epoch 26/1000\n",
      "536/536 [==============================] - 3s 5ms/step - loss: 0.3642 - accuracy: 0.8503 - val_loss: 0.3592 - val_accuracy: 0.8512\n",
      "Epoch 27/1000\n",
      "536/536 [==============================] - 3s 5ms/step - loss: 0.3654 - accuracy: 0.8487 - val_loss: 0.3598 - val_accuracy: 0.8485\n",
      "Epoch 28/1000\n",
      "536/536 [==============================] - 3s 5ms/step - loss: 0.3670 - accuracy: 0.8446 - val_loss: 0.3569 - val_accuracy: 0.8497\n",
      "Epoch 29/1000\n",
      "536/536 [==============================] - 3s 5ms/step - loss: 0.3612 - accuracy: 0.8494 - val_loss: 0.3573 - val_accuracy: 0.8512\n",
      "Epoch 30/1000\n",
      "536/536 [==============================] - 3s 5ms/step - loss: 0.3646 - accuracy: 0.8518 - val_loss: 0.3580 - val_accuracy: 0.8501\n",
      "Epoch 31/1000\n",
      "536/536 [==============================] - 3s 5ms/step - loss: 0.3606 - accuracy: 0.8502 - val_loss: 0.3550 - val_accuracy: 0.8519\n",
      "Epoch 32/1000\n",
      "536/536 [==============================] - 3s 5ms/step - loss: 0.3598 - accuracy: 0.8470 - val_loss: 0.3558 - val_accuracy: 0.8527\n",
      "Epoch 33/1000\n",
      "536/536 [==============================] - 3s 5ms/step - loss: 0.3628 - accuracy: 0.8492 - val_loss: 0.3562 - val_accuracy: 0.8554\n",
      "Epoch 34/1000\n",
      "536/536 [==============================] - 3s 5ms/step - loss: 0.3556 - accuracy: 0.8522 - val_loss: 0.3540 - val_accuracy: 0.8554\n",
      "Epoch 35/1000\n",
      "536/536 [==============================] - 3s 5ms/step - loss: 0.3585 - accuracy: 0.8507 - val_loss: 0.3546 - val_accuracy: 0.8561\n",
      "Epoch 36/1000\n",
      "536/536 [==============================] - 3s 5ms/step - loss: 0.3563 - accuracy: 0.8550 - val_loss: 0.3566 - val_accuracy: 0.8508\n",
      "Epoch 37/1000\n",
      "536/536 [==============================] - 3s 5ms/step - loss: 0.3599 - accuracy: 0.8531 - val_loss: 0.3576 - val_accuracy: 0.8497\n",
      "Epoch 38/1000\n",
      "536/536 [==============================] - 3s 5ms/step - loss: 0.3615 - accuracy: 0.8492 - val_loss: 0.3540 - val_accuracy: 0.8542\n",
      "Epoch 39/1000\n",
      "536/536 [==============================] - 3s 5ms/step - loss: 0.3613 - accuracy: 0.8550 - val_loss: 0.3553 - val_accuracy: 0.8535\n",
      "Epoch 40/1000\n",
      "536/536 [==============================] - 3s 5ms/step - loss: 0.3558 - accuracy: 0.8531 - val_loss: 0.3559 - val_accuracy: 0.8497\n",
      "Epoch 41/1000\n",
      "536/536 [==============================] - 3s 5ms/step - loss: 0.3581 - accuracy: 0.8515 - val_loss: 0.3543 - val_accuracy: 0.8508\n",
      "Epoch 42/1000\n",
      "536/536 [==============================] - 3s 5ms/step - loss: 0.3632 - accuracy: 0.8515 - val_loss: 0.3543 - val_accuracy: 0.8516\n",
      "Epoch 43/1000\n",
      "536/536 [==============================] - 3s 5ms/step - loss: 0.3609 - accuracy: 0.8528 - val_loss: 0.3538 - val_accuracy: 0.8531\n",
      "Epoch 44/1000\n",
      "536/536 [==============================] - 3s 5ms/step - loss: 0.3610 - accuracy: 0.8533 - val_loss: 0.3540 - val_accuracy: 0.8554\n",
      "Epoch 45/1000\n",
      "536/536 [==============================] - 2s 5ms/step - loss: 0.3604 - accuracy: 0.8511 - val_loss: 0.3551 - val_accuracy: 0.8535\n",
      "Epoch 46/1000\n",
      "536/536 [==============================] - 2s 4ms/step - loss: 0.3514 - accuracy: 0.8548 - val_loss: 0.3564 - val_accuracy: 0.8523\n",
      "Epoch 47/1000\n",
      "536/536 [==============================] - 3s 5ms/step - loss: 0.3628 - accuracy: 0.8500 - val_loss: 0.3542 - val_accuracy: 0.8527\n",
      "Epoch 48/1000\n",
      "536/536 [==============================] - 3s 5ms/step - loss: 0.3561 - accuracy: 0.8518 - val_loss: 0.3543 - val_accuracy: 0.8554\n",
      "Epoch 49/1000\n",
      "536/536 [==============================] - 3s 5ms/step - loss: 0.3570 - accuracy: 0.8554 - val_loss: 0.3562 - val_accuracy: 0.8508\n",
      "Epoch 50/1000\n",
      "536/536 [==============================] - 3s 5ms/step - loss: 0.3573 - accuracy: 0.8535 - val_loss: 0.3556 - val_accuracy: 0.8550\n",
      "Epoch 51/1000\n",
      "536/536 [==============================] - 3s 5ms/step - loss: 0.3562 - accuracy: 0.8526 - val_loss: 0.3563 - val_accuracy: 0.8531\n",
      "Epoch 52/1000\n",
      "536/536 [==============================] - 3s 5ms/step - loss: 0.3508 - accuracy: 0.8561 - val_loss: 0.3576 - val_accuracy: 0.8519\n",
      "Epoch 53/1000\n",
      "536/536 [==============================] - 3s 5ms/step - loss: 0.3569 - accuracy: 0.8498 - val_loss: 0.3549 - val_accuracy: 0.8519\n",
      "Epoch 54/1000\n",
      "536/536 [==============================] - 3s 5ms/step - loss: 0.3541 - accuracy: 0.8524 - val_loss: 0.3545 - val_accuracy: 0.8523\n",
      "Epoch 55/1000\n",
      "536/536 [==============================] - 3s 5ms/step - loss: 0.3525 - accuracy: 0.8522 - val_loss: 0.3547 - val_accuracy: 0.8576\n",
      "Epoch 56/1000\n",
      "536/536 [==============================] - 3s 5ms/step - loss: 0.3579 - accuracy: 0.8522 - val_loss: 0.3565 - val_accuracy: 0.8527\n",
      "Epoch 57/1000\n"
     ]
    },
    {
     "name": "stdout",
     "output_type": "stream",
     "text": [
      "536/536 [==============================] - 3s 5ms/step - loss: 0.3615 - accuracy: 0.8496 - val_loss: 0.3571 - val_accuracy: 0.8531\n",
      "Epoch 58/1000\n",
      "536/536 [==============================] - 3s 5ms/step - loss: 0.3584 - accuracy: 0.8520 - val_loss: 0.3552 - val_accuracy: 0.8535\n",
      "Epoch 59/1000\n",
      "536/536 [==============================] - 3s 5ms/step - loss: 0.3565 - accuracy: 0.8479 - val_loss: 0.3554 - val_accuracy: 0.8561\n",
      "Epoch 60/1000\n",
      "536/536 [==============================] - 3s 5ms/step - loss: 0.3502 - accuracy: 0.8584 - val_loss: 0.3544 - val_accuracy: 0.8554\n",
      "Epoch 61/1000\n",
      "536/536 [==============================] - 3s 5ms/step - loss: 0.3623 - accuracy: 0.8565 - val_loss: 0.3555 - val_accuracy: 0.8535\n",
      "Epoch 62/1000\n",
      "536/536 [==============================] - 3s 5ms/step - loss: 0.3527 - accuracy: 0.8582 - val_loss: 0.3560 - val_accuracy: 0.8516\n",
      "Epoch 63/1000\n",
      "536/536 [==============================] - 3s 5ms/step - loss: 0.3503 - accuracy: 0.8543 - val_loss: 0.3565 - val_accuracy: 0.8531\n",
      "Epoch 63: early stopping\n"
     ]
    }
   ],
   "source": [
    "model_history=classifier.fit(x_train,y_train,validation_split=0.33,batch_size=10,epochs=1000,callbacks=early_stopping)"
   ]
  },
  {
   "cell_type": "code",
   "execution_count": 83,
   "metadata": {},
   "outputs": [
    {
     "data": {
      "text/plain": [
       "dict_keys(['loss', 'accuracy', 'val_loss', 'val_accuracy'])"
      ]
     },
     "execution_count": 83,
     "metadata": {},
     "output_type": "execute_result"
    }
   ],
   "source": [
    "model_history.history.keys()"
   ]
  },
  {
   "cell_type": "code",
   "execution_count": 84,
   "metadata": {},
   "outputs": [
    {
     "data": {
      "image/png": "[encoded data removed]",
      "text/plain": [
       "<Figure size 432x288 with 1 Axes>"
      ]
     },
     "metadata": {
      "needs_background": "light"
     },
     "output_type": "display_data"
    }
   ],
   "source": [
    "#Summarize history for accuracy\n",
    "plt.plot(model_history.history['accuracy'])\n",
    "plt.plot(model_history.history['val_accuracy'])\n",
    "plt.title('model_accuracy')\n",
    "plt.xlabel('epoch')\n",
    "plt.ylabel('accuracy')\n",
    "plt.legend(['train','test'],loc='upper left')\n",
    "plt.show()"
   ]
  },
  {
   "cell_type": "code",
   "execution_count": 85,
   "metadata": {},
   "outputs": [
    {
     "data": {
      "image/png": "[encoded data removed]",
      "text/plain": [
       "<Figure size 432x288 with 1 Axes>"
      ]
     },
     "metadata": {
      "needs_background": "light"
     },
     "output_type": "display_data"
    }
   ],
   "source": [
    "#Summarize history for loss\n",
    "plt.plot(model_history.history['loss'])\n",
    "plt.plot(model_history.history['val_loss'])\n",
    "plt.title('model_accuracy')\n",
    "plt.xlabel('epoch')\n",
    "plt.ylabel('accuracy')\n",
    "plt.legend(['train','test'],loc='upper left')\n",
    "plt.show()"
   ]
  },
  {
   "cell_type": "code",
   "execution_count": 86,
   "metadata": {},
   "outputs": [],
   "source": [
    "# Part-3 Making and predictions and evaluating the model\n",
    "# Predicting the test set results"
   ]
  },
  {
   "cell_type": "code",
   "execution_count": 87,
   "metadata": {},
   "outputs": [
    {
     "name": "stdout",
     "output_type": "stream",
     "text": [
      "63/63 [==============================] - 0s 3ms/step\n"
     ]
    }
   ],
   "source": [
    "y_pred=classifier.predict(x_test)\n",
    "y_pred=(y_pred>=0.5)"
   ]
  },
  {
   "cell_type": "code",
   "execution_count": 88,
   "metadata": {},
   "outputs": [
    {
     "data": {
      "text/plain": [
       "array([[1555,   40],\n",
       "       [ 237,  168]], dtype=int64)"
      ]
     },
     "execution_count": 88,
     "metadata": {},
     "output_type": "execute_result"
    }
   ],
   "source": [
    "## make the confusion matrix\n",
    "from sklearn.metrics import confusion_matrix\n",
    "cm=confusion_matrix(y_test,y_pred)\n",
    "cm"
   ]
  },
  {
   "cell_type": "code",
   "execution_count": 89,
   "metadata": {},
   "outputs": [],
   "source": [
    "## calculate the accuracy\n",
    "from sklearn.metrics import accuracy_score\n",
    "score=accuracy_score(y_pred,y_test)"
   ]
  },
  {
   "cell_type": "code",
   "execution_count": 90,
   "metadata": {},
   "outputs": [
    {
     "data": {
      "text/plain": [
       "0.8615"
      ]
     },
     "execution_count": 90,
     "metadata": {},
     "output_type": "execute_result"
    }
   ],
   "source": [
    "score"
   ]
  },
  {
   "cell_type": "code",
   "execution_count": 91,
   "metadata": {},
   "outputs": [
    {
     "data": {
      "text/plain": [
       "[array([[ 0.11561818, -0.00856844, -0.02506659,  0.11219334, -0.00350469,\n",
       "         -0.33686426, -0.03450713, -0.2750601 ,  0.02206774, -0.15756632,\n",
       "          0.08270175],\n",
       "        [-0.6890731 ,  0.11533858,  0.06251533,  0.10239713, -0.72592515,\n",
       "         -0.31129527,  0.04180514,  0.6734693 , -0.74678457, -0.87505394,\n",
       "          0.3539808 ],\n",
       "        [ 0.11792027,  0.01838809,  0.07371818,  0.28597027, -0.06833172,\n",
       "         -0.14842574, -0.05845388, -0.02632246,  0.12259269, -0.01167121,\n",
       "          0.06554068],\n",
       "        [ 0.13508889,  0.07817442, -1.055722  , -0.6156613 , -0.40760475,\n",
       "          0.5383261 ,  0.42587948,  0.09041698, -0.14250675, -0.3568584 ,\n",
       "         -0.6568978 ],\n",
       "        [-0.00274896,  1.1286067 , -1.1164511 ,  0.07422671, -0.24098684,\n",
       "         -0.02319224, -0.88900185, -0.39979407,  0.1105958 , -0.08240556,\n",
       "          0.30951387],\n",
       "        [ 0.04087307, -0.00403151,  0.00998374,  0.18965225,  0.20227267,\n",
       "          0.02630851, -0.14909104,  0.36984965, -0.16184223, -0.21127722,\n",
       "         -0.00341451],\n",
       "        [-0.30339018, -0.21332222, -0.03732036,  0.5318096 , -0.08083909,\n",
       "         -0.5550208 , -0.50294375,  0.3820408 , -0.13753402, -0.4316465 ,\n",
       "          0.2711964 ],\n",
       "        [-0.13165915, -0.04190342, -0.00780329, -0.13037308, -0.0035977 ,\n",
       "         -0.09840459, -0.04324299, -0.16251563, -0.11225815, -0.12379767,\n",
       "          0.05503319],\n",
       "        [-0.0130153 , -0.06920379,  0.5195679 , -0.24171022,  0.40547097,\n",
       "         -0.11215575, -0.18750769, -0.01619057, -0.34803677, -0.42001513,\n",
       "          0.40080506],\n",
       "        [ 0.07431331,  0.07193206,  0.0275205 ,  0.26603565, -0.48635283,\n",
       "         -0.19924186,  0.07063713,  0.06074534, -0.72522396,  0.34356278,\n",
       "          0.13890201],\n",
       "        [-0.6670958 , -0.06270457,  0.04452224,  0.38526198, -0.0628475 ,\n",
       "         -0.2659176 , -0.15540735,  0.26626387,  0.17190163,  0.25073344,\n",
       "         -0.07320751]], dtype=float32),\n",
       " array([ 0.04456168, -0.5755164 , -0.18444844,  0.33172965, -0.05385974,\n",
       "        -0.01328068, -0.3193826 ,  0.02819675,  0.48500943,  0.38861403,\n",
       "        -0.62324005], dtype=float32),\n",
       " array([[-4.21307176e-01, -2.04198554e-01,  3.04408483e-02,\n",
       "          1.31450981e-01,  1.24376155e-01, -8.15331042e-02,\n",
       "         -8.81553292e-01],\n",
       "        [ 1.09952211e+00, -6.53572202e-01, -8.72091055e-01,\n",
       "         -6.48916304e-01, -6.70603991e-01, -3.86346638e-01,\n",
       "          1.09802687e+00],\n",
       "        [ 4.70153332e-01, -4.83850926e-01,  4.85754699e-01,\n",
       "         -7.12141216e-01, -9.97937024e-01, -5.24339795e-01,\n",
       "          5.11978865e-01],\n",
       "        [-4.03351039e-02,  4.80247259e-01, -6.31000936e-01,\n",
       "          2.44236097e-01,  4.98934895e-01,  2.08766699e-01,\n",
       "          2.26286203e-01],\n",
       "        [-5.19503891e-01, -1.20873534e-04, -3.68870437e-01,\n",
       "          3.85686383e-02,  2.14653045e-01,  4.68099415e-01,\n",
       "         -7.03835905e-01],\n",
       "        [-1.08740792e-01,  3.24260920e-01,  1.62222773e-01,\n",
       "         -3.60353976e-01,  2.18694061e-01, -7.39469945e-01,\n",
       "          4.07994166e-02],\n",
       "        [ 4.74726140e-01, -2.38416031e-01,  1.43381253e-01,\n",
       "         -1.52276620e-01, -4.72652167e-01,  1.04365414e-02,\n",
       "          6.72754228e-01],\n",
       "        [-6.19832613e-02, -6.34137332e-01,  1.15259193e-01,\n",
       "          9.44937468e-02, -1.68184638e-01,  2.04340160e-01,\n",
       "         -3.66699100e-01],\n",
       "        [-3.32503855e-01,  2.59513646e-01, -5.07399321e-01,\n",
       "          2.01600388e-01,  5.23089804e-02,  4.12361234e-01,\n",
       "         -8.26287150e-01],\n",
       "        [-3.12849045e-01,  1.44711465e-01, -8.23342204e-02,\n",
       "          1.88367024e-01,  3.51757795e-01,  1.89151406e-01,\n",
       "         -6.26486123e-01],\n",
       "        [-6.55332029e-01,  4.61535126e-01, -9.41260874e-01,\n",
       "          6.26525357e-02, -1.00577153e-01,  5.36480367e-01,\n",
       "         -8.01393151e-01]], dtype=float32),\n",
       " array([-0.15100923,  0.35457358, -0.09065652,  0.26023728,  0.34438807,\n",
       "        -0.0998631 , -0.18553662], dtype=float32),\n",
       " array([[ 0.5777891 , -0.37410977, -0.36970282, -0.32990474, -0.10976377,\n",
       "          0.45898315],\n",
       "        [-0.5607807 ,  0.38425723, -0.18972798,  0.36733657, -0.09912071,\n",
       "         -0.6769444 ],\n",
       "        [ 0.58951235, -0.6061968 , -0.5605707 , -0.45092398, -0.43579444,\n",
       "          0.3331994 ],\n",
       "        [-1.1696167 ,  0.5289305 , -0.68861985,  0.43779108, -0.29099128,\n",
       "         -1.486931  ],\n",
       "        [-0.6130673 ,  0.407095  ,  0.02289495,  0.29654714, -0.540149  ,\n",
       "         -0.8243703 ],\n",
       "        [-1.444483  ,  0.39926046, -0.24907692,  0.31758475,  0.15473413,\n",
       "         -1.0276594 ],\n",
       "        [ 1.1269392 , -1.0916592 , -0.50321597, -0.8938474 , -0.4161417 ,\n",
       "          0.97719127]], dtype=float32),\n",
       " array([ 0.25494176,  0.0341126 , -0.21585304,  0.04281391, -0.48619756,\n",
       "         0.27051032], dtype=float32),\n",
       " array([[ 1.013085  ],\n",
       "        [-0.65490276],\n",
       "        [ 0.29354203],\n",
       "        [-0.77410537],\n",
       "        [ 0.5338336 ],\n",
       "        [ 1.1868484 ]], dtype=float32),\n",
       " array([-1.2865309], dtype=float32)]"
      ]
     },
     "execution_count": 91,
     "metadata": {},
     "output_type": "execute_result"
    }
   ],
   "source": [
    "## get the weights\n",
    "classifier.get_weights()\n"
   ]
  },
  {
   "cell_type": "code",
   "execution_count": null,
   "metadata": {},
   "outputs": [],
   "source": []
  },
  {
   "cell_type": "code",
   "execution_count": null,
   "metadata": {},
   "outputs": [],
   "source": []
  },
  {
   "cell_type": "code",
   "execution_count": null,
   "metadata": {},
   "outputs": [],
   "source": []
  }
 ],
 "metadata": {
  "kernelspec": {
   "display_name": "Python 3",
   "language": "python",
   "name": "python3"
  },
  "language_info": {
   "codemirror_mode": {
    "name": "ipython",
    "version": 3
   },
   "file_extension": ".py",
   "mimetype": "text/x-python",
   "name": "python",
   "nbconvert_exporter": "python",
   "pygments_lexer": "ipython3",
   "version": "3.7.3"
  }
 },
 "nbformat": 4,
 "nbformat_minor": 2
}
